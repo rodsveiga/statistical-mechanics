{
 "cells": [
  {
   "cell_type": "markdown",
   "metadata": {},
   "source": [
    "# Ehrenfest Urn Model\n",
    "\n",
    "The following analysis in based on the suggestions made by the question 5 of the [problem series](https://edisciplinas.usp.br/pluginfile.php/3983528/mod_resource/content/3/pgif2017_01.pdf) proposed by Silvio R. A. Salinas. "
   ]
  },
  {
   "cell_type": "code",
   "execution_count": 1,
   "metadata": {
    "collapsed": true
   },
   "outputs": [],
   "source": [
    "import numpy as np\n",
    "import matplotlib.pyplot as plt"
   ]
  },
  {
   "cell_type": "markdown",
   "metadata": {},
   "source": [
    "## Simple Simulation"
   ]
  },
  {
   "cell_type": "markdown",
   "metadata": {},
   "source": [
    "We are going to simulate even a simpler situation, perhaps more realistic (why?). At each discrete time $t$, we pick a random number $0 \\le r \\lt 1$. If $r \\lt N_1/N$, a ball is taken from the urn 1 and put in the urn 2, which simply means $ N_1 \\rightarrow N_1 - 1$. On the other hand, if $r \\ge N_1/N$, a ball is taken from the urn 2 and put in the urn 1, $N_1 \\rightarrow N_1 + 1$. After that we consider the next discrete time $ t + \\Delta  t$ and repeat the whole process during a convenient time interval in order to check the inherent statistical fluctuations and the path to a eventually equilibrium state as $t$ grows.\n",
    "\n",
    "We choose $N_1 (t = 0) = N$ and analyze the behavior for different values of $N$."
   ]
  },
  {
   "cell_type": "markdown",
   "metadata": {},
   "source": [
    "### Case $N =20$"
   ]
  },
  {
   "cell_type": "code",
   "execution_count": 2,
   "metadata": {
    "collapsed": false
   },
   "outputs": [],
   "source": [
    "N = 20\n",
    "t = np.arange(0,25*N, 5)"
   ]
  },
  {
   "cell_type": "code",
   "execution_count": 3,
   "metadata": {
    "collapsed": false
   },
   "outputs": [
    {
     "data": {
      "image/png": "[encoded data removed]",
      "text/plain": [
       "<matplotlib.figure.Figure at 0x7f27e0df42e8>"
      ]
     },
     "metadata": {},
     "output_type": "display_data"
    }
   ],
   "source": [
    "N1 = N\n",
    "N1_array = [N1]\n",
    "\n",
    "np.random.seed(12) \n",
    "\n",
    "for i in range(t.size-1):\n",
    "    if (N1 > 0):\n",
    "        r = np.random.random()\n",
    "        if r < (N1/N):\n",
    "            N1 = N1 - 1\n",
    "        else:\n",
    "            N1 = N1 + 1\n",
    "        \n",
    "        N1_array.append(N1)  \n",
    "        \n",
    "plt.plot(t[:len(N1_array)], N1_array,'o')\n",
    "plt.ylabel('$N_1$', fontsize=18)\n",
    "plt.xlabel('$t$', fontsize=18)\n",
    "plt.suptitle('$N= %d$' % N, fontsize=20)\n",
    "plt.axhline(y = N/2, color='r', linestyle='-')\n",
    "\n",
    "plt.show()"
   ]
  },
  {
   "cell_type": "markdown",
   "metadata": {},
   "source": [
    "### Case $N =200$"
   ]
  },
  {
   "cell_type": "code",
   "execution_count": 4,
   "metadata": {
    "collapsed": true
   },
   "outputs": [],
   "source": [
    "N = 200\n",
    "t = np.arange(0, 15*N, 5)"
   ]
  },
  {
   "cell_type": "code",
   "execution_count": 5,
   "metadata": {
    "collapsed": false
   },
   "outputs": [
    {
     "data": {
      "image/png": "[encoded data removed]",
      "text/plain": [
       "<matplotlib.figure.Figure at 0x7f27dda3a8d0>"
      ]
     },
     "metadata": {},
     "output_type": "display_data"
    }
   ],
   "source": [
    "N1 = N\n",
    "N1_array = [N1]\n",
    "\n",
    "np.random.seed(12) \n",
    "\n",
    "for i in range(t.size-1):\n",
    "    if (N1 > 0):\n",
    "        r = np.random.random()\n",
    "        if r < (N1/N):\n",
    "            N1 = N1 - 1\n",
    "        else:\n",
    "            N1 = N1 + 1\n",
    "        \n",
    "        N1_array.append(N1)  \n",
    " \n",
    "\n",
    "fig, ax1 = plt.subplots()\n",
    "\n",
    "# These are in unitless percentages of the figure size. (0,0 is bottom left)\n",
    "left, bottom, width, height = [0.6, 0.6, 0.2, 0.2]\n",
    "ax2 = fig.add_axes([left, bottom, width, height])\n",
    "\n",
    "ax1.plot(t[:len(N1_array)], N1_array,'.')\n",
    "ax1.axhline(y = N/2, color='r', linestyle='-')\n",
    "ax1.set_ylabel('$N_1$', fontsize=18)\n",
    "ax1.set_xlabel('$t$', fontsize=18)\n",
    "\n",
    "ax2.plot(t[:len(N1_array)], N1_array, marker='.', markersize=0.1)\n",
    "ax2.axhline(y = N/2, color='r', linestyle='-')\n",
    "ax2.set_xlim([2500,3000])\n",
    "ax2.set_ylim([95,105])\n",
    "\n",
    "plt.suptitle('$N= %d$' % N, fontsize=20)\n",
    "\n",
    "plt.show()"
   ]
  },
  {
   "cell_type": "markdown",
   "metadata": {},
   "source": [
    "### Case $N =2000$"
   ]
  },
  {
   "cell_type": "code",
   "execution_count": 6,
   "metadata": {
    "collapsed": true
   },
   "outputs": [],
   "source": [
    "N = 2000\n",
    "t = np.arange(0, 10*N, 2)"
   ]
  },
  {
   "cell_type": "code",
   "execution_count": 7,
   "metadata": {
    "collapsed": false
   },
   "outputs": [
    {
     "data": {
      "image/png": "[encoded data removed]",
      "text/plain": [
       "<matplotlib.figure.Figure at 0x7f27dd680e48>"
      ]
     },
     "metadata": {},
     "output_type": "display_data"
    }
   ],
   "source": [
    "N1 = N\n",
    "N1_array = [N1]\n",
    "\n",
    "np.random.seed(12) \n",
    "\n",
    "for i in range(t.size-1):\n",
    "    if (N1 > 0):\n",
    "        r = np.random.random()\n",
    "        if r < (N1/N):\n",
    "            N1 = N1 - 1\n",
    "        else:\n",
    "            N1 = N1 + 1\n",
    "        \n",
    "        N1_array.append(N1)  \n",
    " \n",
    "\n",
    "fig, ax1 = plt.subplots()\n",
    "\n",
    "# These are in unitless percentages of the figure size. (0,0 is bottom left)\n",
    "left, bottom, width, height = [0.6, 0.6, 0.2, 0.2]\n",
    "ax2 = fig.add_axes([left, bottom, width, height])\n",
    "\n",
    "ax1.plot(t[:len(N1_array)], N1_array,'.')\n",
    "ax1.axhline(y = N/2, color='r', linestyle='-')\n",
    "ax1.set_ylabel('$N_1$', fontsize=18)\n",
    "ax1.set_xlabel('$t$', fontsize=18)\n",
    "\n",
    "ax2.plot(t[:len(N1_array)], N1_array, marker='.', markersize=0.1)\n",
    "ax2.axhline(y = N/2, color='r', linestyle='-')\n",
    "ax2.set_xlim([10000,20000])\n",
    "ax2.set_ylim([940,1050])\n",
    "\n",
    "plt.suptitle('$N= %d$' % N, fontsize=20)\n",
    "\n",
    "plt.show()"
   ]
  },
  {
   "cell_type": "markdown",
   "metadata": {
    "collapsed": true
   },
   "source": [
    "# Ehrenfest Urn Model as Markov Chain\n",
    "\n",
    "The Ehrenfest Urn Model can be treated as Markov process, which is a random process whose future probabilities are determined by its most recent values. In our problem this means that the choice of which ball is going to be picked in the particular time $t$ depends only on the previous state of the system in the time $t + \\Delta t$. \n",
    "\n",
    "In general, the temporal evolution of the probability distribution ${\\cal P }(n,t)$ associated with a physical system in a particular state $n$ in the the time $t$ is given by the master equation:\n",
    "\n",
    "$$ \\frac{d}{dt} {\\cal P }(n,t) = \\sum_{m\\ne n} \\left[  W_{m \\rightarrow n} {\\cal P }(m,t) - \n",
    "                 W_{n \\rightarrow m} {\\cal P }(n,t) \\right] $$\n",
    "                 \n",
    "Note that the transitional elements $ W_{i \\rightarrow j} $ define a transitional matrix ${\\cal W}$, with $\\text{Tr}({\\cal W}) = 0 $.\n",
    "\n",
    "In our context, if we call ${\\cal P }(N_1,t)$ the probability of finding $N_1$ balls in the urn 1 in the time $t$ and if we consider a Markov process the master equation is reduced to\n",
    "\n",
    "$$ \\frac{d}{dt} {\\cal P }(N_1,t) =   W_{N_1 + 1 \\rightarrow N_1} {\\cal P }(N_1 + 1,t) \n",
    "                                     + W_{N_1 - 1 \\rightarrow N_1} {\\cal P }(N_1 - 1,t)\n",
    "                                     - W_{N_1 \\rightarrow N_1 + 1} {\\cal P }(N_1,t)\n",
    "                                     - W_{N_1 \\rightarrow N_1 - 1 } {\\cal P }(N_1,t)$$\n",
    "                                     \n",
    "with $N_1(t) + N_2(t) = N$ a constant value. Note that within the Markov assumption, this particular state with $N_1$ depends only on the states in the previous time $ t - \\Delta t$, $(N_1 \\pm 1 \\rightarrow N_1)$ and $ t + \\Delta t$, $(N_1 \\rightarrow N_1 \\pm 1)$."
   ]
  },
  {
   "cell_type": "markdown",
   "metadata": {},
   "source": [
    "### Transitional Matrix Elements\n",
    "\n",
    "It is reasonable to define the transitional matrix elements as follows:\n",
    "\n",
    "$$W_{N_1 + 1 \\rightarrow N_1} \\equiv \\frac{N_1 + 1}{N},$$ \n",
    "\n",
    "for this quantity represents the transition where the urn 1 is taken from the state with $N_1 + 1$ balls to the state with $ N_1$ balls. It is equivalent to sort one of the $N_1 +1$ balls in the urn 1 among the total number of balls $N$.\n",
    "\n",
    "$$W_{N_1 - 1 \\rightarrow N_1} \\equiv \\frac{N-(N_1-1)}{N},$$\n",
    "\n",
    "for this quantity represents the transition where the urn 1 is taken from the state with $N_1 - 1$ balls to the state with $ N_1$ balls. It is equivalent to sort one of the $N-(N_1-1)$ balls in the urn 2 among the total number of balls $N$. \n",
    "\n",
    "$$W_{N_1 \\rightarrow N_1 + 1} \\equiv \\frac{N - N_1}{N},$$\n",
    "\n",
    "for this quantity represents the transition where the urn 1 is taken from the state with $N_1$ balls to the state with $ N_1 + 1$ balls. It is equivalent to sort one of the $N-N_1$ balls in the urn 2 among the total number of balls $N$. Since this transition would take out the system from the state of interest with $N_1$ balls, it takes a negative sign in the master equation.  \n",
    "\n",
    "$$ W_{N_1 \\rightarrow N_1 - 1 } \\equiv \\frac{N_1}{N}, $$\n",
    "\n",
    "for this quantity represents the transition where the urn 1 is taken from the state with $N_1$ balls to the state with $ N_1 - 1$ balls. It is equivalent to sort one of the $N_1$ balls in the urn 1 among the total number of balls $N$. Since this transition would take out the system from the state of interest with $N_1$ balls, it takes a negative sign in the master equation. \n",
    "\n",
    "Coming back to the master equation, \n",
    "\n",
    "$$  \\frac{d}{dt} {\\cal P }(N_1,t) = \\left( \\frac{N_1 + 1}{N} \\right) {\\cal P }(N_1 + 1,t)  \n",
    "                                     +\\left( \\frac{N-(N_1-1)}{N} \\right)  {\\cal P }(N_1 - 1,t)\n",
    "                                     -\\left( \\frac{N - N_1}{N} \\right)  {\\cal P }(N_1,t) \n",
    "                                     - \\left(  \\frac{N_1}{N} \\right) {\\cal P }(N_1,t) ,$$\n",
    "                                     \n",
    "we get\n",
    "\n",
    "$$ \\frac{d}{dt} {\\cal P }(N_1,t) = \\left( \\frac{N_1 + 1}{N} \\right) {\\cal P }(N_1 + 1,t)  \n",
    "                                     +\\left( \\frac{N-(N_1-1)}{N} \\right)  {\\cal P }(N_1 - 1,t)\n",
    "                                    - {\\cal P }(N_1,t) . $$"
   ]
  },
  {
   "cell_type": "markdown",
   "metadata": {},
   "source": [
    "## Equilibrium state: binomial distribution\n",
    "\n",
    "It is interesting to consider the situation which ${\\cal P }(N_1,t)$ does not depend on time, \n",
    "\n",
    "$$ \\frac{d}{dt} {\\cal P }(N_1,t)  = 0 .$$\n",
    "\n",
    "Namely, ${\\cal P }(N_1,t) = {\\cal P }(N_1)$:\n",
    "\n",
    "$$ {\\cal P }(N_1) = \\left( \\frac{N_1 + 1}{N} \\right) {\\cal P }(N_1 + 1)  \n",
    "                                     +\\left( \\frac{N-(N_1-1)}{N} \\right)  {\\cal P }(N_1 - 1)  $$.\n",
    "                                     \n",
    "In the simulations performed in the first section, one can note the indication that this equilibrium state is reached when the scales of the system are such that we can consider $t \\rightarrow \\infty$.\n",
    "\n",
    "Now we check that the binomial distribution, \n",
    "\n",
    "$$ {\\cal P }(N_1) = \\frac{1}{2^N} \\frac{N!}{N_1 ! (N - N_1)!} ,$$\n",
    "\n",
    "is a solution of the equation above. Replacing ${\\cal P }(N_1 + 1)$ and ${\\cal P }(N_1 - 1)$:\n",
    "\n",
    "$$ {\\cal P }(N_1) =  \\left( \\frac{N_1 + 1}{N} \\right) \\frac{1}{2^N} \\frac{N!}{(N_1 +1)! (N - (N_1+1))!}\n",
    "                     + \\left( \\frac{N-(N_1-1)}{N} \\right) \\frac{1}{2^N} \\frac{N!}{(N_1 -1)! (N - (N_1-1))!} $$\n",
    "                     \n",
    "$$ {\\cal P }(N_1) =  \\frac{1}{2^N} \\left[ \\left( \\frac{N_1 + 1}{N} \\right)  \\frac{N(N_1 - 1)!}{(N_1 +1)N_1 ! (N - (N_1+1))!}\n",
    "                     + \\left( \\frac{N-N_1+1}{N} \\right)  \\frac{N(N_1 - 1)!}{(N_1 -1)! (N - N_1+1)(N - N_1)!} \\right] $$\n",
    "                     \n",
    "$$ {\\cal P }(N_1) =  \\frac{1}{2^N} \\left[ \\frac{(N_1 - 1)!}{N_1 ! ( (N - 1) - N_1 )!}\n",
    "                     +   \\frac{(N_1 - 1)!}{(N_1 -1)! (  (N - 1) - (N_1-1) )!} \\right] $$\n",
    "                     \n",
    "$$ {\\cal P }(N_1) =  \\frac{1}{2^N} \\left[\\binom{N-1}{N_1}\n",
    "                     +   \\binom{N-1}{N_1 - 1} \\right]   $$.\n",
    "                     \n",
    "Using the following binomial identity for $ k \\le n$ with $ k, n \\in  \\mathbb{N}_{+}$:\n",
    "\n",
    "$$ \\binom{n}{k} = \\binom{n-1}{k} + \\binom{n-1}{k-1}, $$\n",
    "\n",
    "we finally get\n",
    "\n",
    "$$ {\\cal P }(N_1) = \\frac{1}{2^N} \\frac{N!}{N_1 ! (N - N_1)!} .$$"
   ]
  },
  {
   "cell_type": "markdown",
   "metadata": {},
   "source": [
    "## Time-evolution of the mean number of balls in the urn 1: $ \\langle N_1 (t) \\rangle $\n",
    "\n",
    "The mean number of balls in the urn 1 is calculated, since ${\\cal P }(N_1, t)$ is probability distribution, by\n",
    "\n",
    "$$ \\langle N_1 (t) \\rangle  = \\sum_{N_1=0}^{N} N_1 {\\cal P }(N_1, t)  , $$\n",
    "\n",
    "with $ \\langle N_1 (t=0) \\rangle = N_0   $.\n",
    "\n",
    "We now take the time derivative of \\langle N_1 (t) \\rangle,\n",
    "\n",
    "$$ \\frac{d}{dt} \\langle N_1 (t) \\rangle  = \\sum_{N_1=0}^{N} N_1 \\frac{d}{dt} {\\cal P }(N_1, t) $$, \n",
    "\n",
    "and make use of the master equation to write:\n",
    "\n",
    "$$ \\frac{d}{dt}  \\langle N_1 (t) \\rangle  = \\sum_{N_1=0}^{N} N_1 \\left[ \\left( \\frac{N_1 + 1}{N} \\right) {\\cal P }(N_1 + 1,t)  \n",
    "                                     +\\left( \\frac{N-(N_1-1)}{N} \\right)  {\\cal P }(N_1 - 1,t)\n",
    "                                    - {\\cal P }(N_1,t)  \\right]  $$\n",
    "                                    \n",
    "$$ \\frac{d}{dt}  \\langle N_1 (t) \\rangle  = - \\langle N_1 (t) \\rangle +  \\sum_{N_1=0}^{N} N_1 \\left( \\frac{N_1 + 1}{N} \\right) {\\cal P }(N_1 + 1,t)  +  \\sum_{N_1=0}^{N} N_1 \\left( \\frac{N-(N_1-1)}{N} \\right)  {\\cal P }(N_1 - 1,t)$$\n",
    "\n",
    "Calling the first summation $s_1$, \n",
    "\n",
    "$$ s_1 \\equiv \\sum_{N_1=0}^{N} N_1 \\left( \\frac{N_1 + 1}{N} \\right) {\\cal P }(N_1 + 1,t) ,$$\n",
    "\n",
    "we can rewrite it as\n",
    "\n",
    "$$ s_1 \\equiv \\sum_{N_1=0}^{N-1} N_1 \\left( \\frac{N_1 + 1}{N} \\right) {\\cal P }(N_1 + 1,t) ,$$\n",
    "\n",
    "since necessarily ${\\cal P }(N + 1,t) = 0$. Then we make the changing of variable $ N_{1}^{'} = N_1 +1$:\n",
    "\n",
    "$$  s_1 =  \\sum_{N_1=1}^{N} N_1 \\left( \\frac{N_1 -1}{N} \\right) {\\cal P }(N_1,t) \n",
    "           =  \\sum_{N_1=0}^{N} N_1 \\left( \\frac{N_1 -1}{N} \\right) {\\cal P }(N_1,t) .$$\n",
    "           \n",
    "The $s_1$ object can be written in terms of the first and second moments of the distribution ${\\cal P }(N_1,t) $:\n",
    "\n",
    "$$  s_1 = \\frac{1}{N} \\sum_{N_1=0}^{N}  N_{1}^2  {\\cal P }(N_1,t) -  \\frac{1}{N} \\sum_{N_1=0}^{N}  N_{1}  {\\cal P }(N_1,t) $$\n",
    "\n",
    "$$  \\Rightarrow s_1 = \\frac{1}{N}   \\left[  \\langle N_{1}^2 (t) \\rangle  - \\langle N_1 (t) \\rangle \\right] , $$\n",
    "\n",
    "where $  \\langle N_{1}^2 (t) \\rangle =  \\sum_{N_1=0}^{N}  N_{1}^2  {\\cal P }(N_1,t)$.\n",
    "\n",
    "Similarly, the second summation is defined as\n",
    "\n",
    "$$ s_2 \\equiv \\sum_{N_1=0}^{N} N_1 \\left( \\frac{N-(N_1-1)}{N} \\right)  {\\cal P }(N_1 - 1,t)$$.\n",
    "\n",
    "Naturally, \n",
    "\n",
    "$$ s_2 = \\sum_{N_1=1}^{N} N_1 \\left( \\frac{N-(N_1-1)}{N} \\right)  {\\cal P }(N_1 - 1,t). $$\n",
    "\n",
    "With an analogous change of variable $ N_{1}^{''} = N_1 -1$, we have\n",
    "\n",
    "$$  s_2 =  \\sum_{N_1=0}^{N-1}  ( N_1 + 1)    \\left( \\frac{N -N_1}{N} \\right) {\\cal P }(N_1,t) \n",
    "           =   \\sum_{N_1=0}^{N} ( N_1 + 1)    \\left( \\frac{N -N_1}{N} \\right) {\\cal P }(N_1,t) ,$$\n",
    "           \n",
    "which can be written as\n",
    "\n",
    "$$  s_2 = \\left( 1 - \\frac{1}{N} \\right) \\sum_{N_1=0}^{N}  N_{1}  {\\cal P }(N_1,t)   \n",
    "                     - \\frac{1}{N} \\sum_{N_1=0}^{N}  N_{1}^2  {\\cal P }(N_1,t)\n",
    "                     -  \\sum_{N_1=0}^{N}   {\\cal P }(N_1,t)$$\n",
    "                     \n",
    "$$  \\Rightarrow s_2 = \\left( 1 - \\frac{1}{N} \\right) \\langle N_1 (t) \\rangle  \n",
    "                     - \\frac{1}{N} \\langle N_{1}^2 (t) \\rangle\n",
    "                     - 1,$$\n",
    "\n",
    "since $ \\sum_{N_1=0}^{N}   {\\cal P }(N_1,t) = 1$."
   ]
  },
  {
   "cell_type": "markdown",
   "metadata": {},
   "source": [
    "Plugging back the expressions for $s_1$ and $s_2$ in the master equation we can write: \n",
    "\n",
    "$$ \\frac{d}{dt}  \\langle N_1 (t) \\rangle  = - \\langle N_1 (t) \\rangle +  \\frac{1}{N}   \\left[  \\langle N_{1}^2 (t) \\rangle  - \\langle N_1 (t) \\rangle \\right]   +  \\left( 1 - \\frac{1}{N} \\right) \\langle N_1 (t) \\rangle  \n",
    "                     - \\frac{1}{N} \\langle N_{1}^2 (t) \\rangle\n",
    "                     - 1,$$ \n",
    "                     \n",
    "which leads to the following linear differential equation for $\\langle N_1 (t) \\rangle$:\n",
    "\n",
    "$$ \\frac{d}{dt}  \\langle N_1 (t) \\rangle  = - \\frac{2}{N}\\langle N_1 (t) \\rangle + 1 $$"
   ]
  },
  {
   "cell_type": "markdown",
   "metadata": {},
   "source": [
    "To solve this differential equation we make use of the ansatz:\n",
    "\n",
    "$$ \\langle N_1 (t) \\rangle = A + B e^{pt}$$\n",
    "\n",
    "Plugging this in the differential equation:\n",
    "\n",
    "$$ B p e^{pt} = - \\frac{2}{N} \\left(  A + B e^{pt} \\right) + 1 \\Rightarrow A= \\frac{N}{2} $$\n",
    "\n",
    "$$ B e^{pt} \\left( p + \\frac{N}{2}  \\right) = 0 \\Rightarrow  p = - \\frac{N}{2} $$\n",
    "\n",
    "$$ \\Rightarrow \\langle N_1 (t) \\rangle = \\frac{N}{2} + B e^{- 2t/N}$$\n",
    "\n",
    "Since $\\langle N_1 (t=0) \\rangle  = N_0$, the coefficient $B$ must be $N_0 - N/2$ and the final solution is given by\n",
    "\n",
    "$$ \\langle N_1 (t) \\rangle = \\left(  N_0 - \\frac{N}{2} \\right) e^{ - t / \\tau} + \\frac{N}{2},$$\n",
    "\n",
    "where\n",
    "\n",
    "$$ \\tau \\equiv \\frac{N}{2}$$\n",
    "\n",
    "defines a characteristic scale for the system. Naturally, the exponential behavior provides the asymptotic value:\n",
    "\n",
    "$$  \\langle N_1 (t \\rightarrow \\infty) \\rangle \\rightarrow \\frac{N}{2}$$.\n",
    "\n",
    "Below, just for illustration purposes, we plot the solution for $\\langle N_1 (t) \\rangle$ with $ N=200$ and $N_0 = N$. "
   ]
  },
  {
   "cell_type": "code",
   "execution_count": 8,
   "metadata": {
    "collapsed": false
   },
   "outputs": [
    {
     "data": {
      "image/png": "[encoded data removed]",
      "text/plain": [
       "<matplotlib.figure.Figure at 0x7f27dd4fba20>"
      ]
     },
     "metadata": {},
     "output_type": "display_data"
    }
   ],
   "source": [
    "n = 200\n",
    "n_0 = n\n",
    "x = np.linspace(0, 4*n, 100)\n",
    "y = (n_0 - n/2)*np.exp(-2*x/n) + n/2\n",
    "plt.plot(x, y, color='red')\n",
    "plt.ylabel('$ < N_1> $', fontsize=18)\n",
    "plt.xlabel('$t$', fontsize=18)\n",
    "plt.suptitle('$N= %d$' % n, fontsize=20)\n",
    "\n",
    "plt.show()"
   ]
  },
  {
   "cell_type": "markdown",
   "metadata": {},
   "source": [
    "## Asymptotic value of $ \\langle N_1 (t) \\rangle $ calculated directly by the equilibrium state: binomial distribution\n",
    "\n",
    "Now we want to calculate \n",
    "\n",
    "$$ \\langle N_1  \\rangle  \\equiv \\lim_{t \\rightarrow \\infty} \\langle N_1 (t) \\rangle  $$\n",
    "\n",
    "directly from the equilibrium state which follows a binomial probability distribution\n",
    "\n",
    "$${\\cal P }(N_1) = \\frac{1}{2^N} \\frac{N!}{N_1 ! (N - N_1)!}.$$\n",
    "\n",
    "Hands-on:\n",
    "\n",
    "$$ \\langle N_1  \\rangle  = \\sum_{N_1=0}^{N} N_1 {\\cal P }(N_1) $$\n",
    "\n",
    "$$  \\Rightarrow \\langle N_1  \\rangle =  \\frac{1}{2^N} \\sum_{N_1=0}^{N} N_1  \\frac{N!}{N_1 ! (N - N_1)!} \n",
    "                                     =  \\frac{1}{2^N} \\sum_{N_1=1}^{N} N_1  \\frac{N(N-1)!}{N_1 (N_1-1)! (N - N_1)!}\n",
    "                                     =  \\frac{N}{2^N} \\sum_{N_1=1}^{N}   \\frac{(N-1)!}{(N_1-1)!  ( (N-1) - (N_1-1) )!} .$$\n",
    "                                     \n",
    "With the change of variable $N_1^{'} = N_1 -1$, we have:\n",
    "\n",
    "$$  \\langle N_1  \\rangle  = \\frac{N}{2^N} \\sum_{N_1=0}^{N-1} \\frac{(N-1)!}{N_1!  ( (N-1) - N_1 )!}  =\n",
    "                                \\frac{N}{2^N} \\sum_{N_1=0}^{N-1} \\binom{N-1}{N_1}     .        $$\n",
    "                                \n",
    "From the binomial distribution normalization factor: \n",
    "\n",
    "$$ \\sum_{N_1=0}^{N-1} \\binom{N-1}{N_1} = {2^{N-1} }, $$\n",
    "\n",
    "we get the result we were expecting:\n",
    "\n",
    "$$ \\langle N_1  \\rangle =  \\frac{N}{2}$$\n",
    "\n"
   ]
  },
  {
   "cell_type": "markdown",
   "metadata": {},
   "source": [
    "## Asymptotic value of $ \\langle N_{1}^{2} (t) \\rangle $ and statistic fluctuations in the equilibrium\n",
    "\n",
    "In order to analyze equilibrium statistic fluctuations,\n",
    "\n",
    "$$ \\propto \\frac{\\sqrt{\\langle N_{1}^{2} \\rangle - \\langle N_{1} \\rangle^2 }}{\\langle N_{1} \\rangle},$$ \n",
    "\n",
    "where $ \\langle N_{1}^2  \\rangle  \\equiv \\lim_{t \\rightarrow \\infty} \\langle N_{1}^2\\rangle  $, we now calculate the asymptotic value for the second moment directly from the binomial distribution, as it was done in the previous section."
   ]
  },
  {
   "cell_type": "markdown",
   "metadata": {},
   "source": [
    "$$ \\langle N_{1}^2  \\rangle  = \\sum_{N_1=0}^{N} N_{1}^2 {\\cal P }(N_1) $$\n",
    "\n",
    "$$  \\Rightarrow \\langle N_{1}^2  \\rangle =  \\frac{1}{2^N} \\sum_{N_1=0}^{N} N_{1}^2  \\frac{N!}{N_1 ! (N - N_1)!} \n",
    "                                     =  \\frac{1}{2^N} \\sum_{N_1=1}^{N} N_{1}^2  \\frac{N(N-1)!}{N_1 (N_1-1)! (N - N_1)!}\n",
    "                                     =  \\frac{N}{2^N} \\sum_{N_1=1}^{N} N_{1}   \\frac{(N-1)!}{(N_1-1)!((N-1)-(N_1-1) )!} .$$\n",
    "                                     \n",
    "With the change of variable $N_1^{'} = N_1 -1$, we have:\n",
    "\n",
    "$$  \\langle N_{1}^2  \\rangle =   \\frac{N}{2^N} \\sum_{N_1=0}^{N-1} (N_{1}+1)  \\frac{(N-1)!}{N_{1}!((N-1)-N_1 )!} \n",
    "                             = \\frac{N}{2^N}  \\left[  \\sum_{N_1=0}^{N-1} N_{1}  \\frac{(N-1)!}{N_{1}!((N-1)-N_1 )!}\n",
    "                             + \\sum_{N_1=0}^{N-1}   \\frac{(N-1)!}{N_{1}!((N-1)-N_1 )!}\\right]$$\n",
    "                             \n",
    "$$ \\langle N_{1}^2  \\rangle = \\frac{N}{2^N}  \\left[  \\sum_{N_1=0}^{N-1} N_{1}  \\binom{N-1}{N_1}\n",
    "                             + \\sum_{N_1=0}^{N-1}  \\binom{N-1}{N_1}\\right]  $$\n",
    "                             \n",
    "By the previous result for $\\langle N_{1}  \\rangle$ we infer that\n",
    "\n",
    "$$  \\sum_{N_1=0}^{N-1} N_{1}  \\binom{N-1}{N_1} = 2^{N-2}(N-1)$$\n",
    "\n",
    "and making use of the binomial distribution normalization factor, \n",
    "\n",
    "$$ \\sum_{N_1=0}^{N-1} \\binom{N-1}{N_1} = {2^{N-1} }, $$\n",
    "\n",
    "we get\n",
    "\n",
    "$$ \\langle N_{1}^2  \\rangle = \\frac{N}{4}(N+1)  $$"
   ]
  },
  {
   "cell_type": "markdown",
   "metadata": {},
   "source": [
    "Now that we have calculate the values $\\langle N_{1}  \\rangle$ and $\\langle N_{1}^2  \\rangle $, we note that for $t$ sufficiently large:\n",
    "\n",
    "$$ \\frac{\\sqrt{\\langle N_{1}^{2} \\rangle - \\langle N_{1} \\rangle^2 }}{\\langle N_{1} \\rangle} = \\frac{1}{\\sqrt{N}} $$\n",
    "\n",
    "Note that the fluctuation should go to zero as $ N \\rightarrow \\infty$.\n",
    "\n"
   ]
  },
  {
   "cell_type": "code",
   "execution_count": null,
   "metadata": {
    "collapsed": true
   },
   "outputs": [],
   "source": []
  }
 ],
 "metadata": {
  "kernelspec": {
   "display_name": "Python 3",
   "language": "python",
   "name": "python3"
  },
  "language_info": {
   "codemirror_mode": {
    "name": "ipython",
    "version": 3
   },
   "file_extension": ".py",
   "mimetype": "text/x-python",
   "name": "python",
   "nbconvert_exporter": "python",
   "pygments_lexer": "ipython3",
   "version": "3.6.0"
  },
  "latex_envs": {
   "LaTeX_envs_menu_present": true,
   "autocomplete": true,
   "bibliofile": "biblio.bib",
   "cite_by": "apalike",
   "current_citInitial": 1,
   "eqLabelWithNumbers": true,
   "eqNumInitial": 1,
   "hotkeys": {
    "equation": "Ctrl-E",
    "itemize": "Ctrl-I"
   },
   "labels_anchors": false,
   "latex_user_defs": false,
   "report_style_numbering": false,
   "user_envs_cfg": false
  }
 },
 "nbformat": 4,
 "nbformat_minor": 2
}
